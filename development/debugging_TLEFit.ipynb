{
 "cells": [
  {
   "cell_type": "code",
   "execution_count": null,
   "metadata": {},
   "outputs": [],
   "source": [
    "import imp\n",
    "import datetime\n",
    "import orbitfit.tle_utils as tu\n",
    "from orbitfit.io import parse_gps_data\n",
    "from orbitfit.rotate import rotate_gps\n",
    "from orbitfit.utils import filter_with_mean_oe, calculate_gps_tle_error\n",
    "\n",
    "import orbitfit.orbitfit as of\n",
    "import matplotlib.pyplot as plt\n",
    "import numpy as np\n",
    "\n",
    "import logging\n",
    "logging.basicConfig(level=logging.INFO)\n",
    "\n",
    "%matplotlib notebook"
   ]
  },
  {
   "cell_type": "code",
   "execution_count": null,
   "metadata": {},
   "outputs": [],
   "source": [
    "imp.reload(of)\n",
    "imp.reload(tu)"
   ]
  },
  {
   "cell_type": "code",
   "execution_count": null,
   "metadata": {},
   "outputs": [],
   "source": [
    "filename = \"NSL1_GPS_Test_20210309.csv\"\n",
    "df_gps = parse_gps_data(filename)"
   ]
  },
  {
   "cell_type": "code",
   "execution_count": null,
   "metadata": {},
   "outputs": [],
   "source": [
    "df_gps_teme = rotate_gps(df_gps, method=\"E2T\")"
   ]
  },
  {
   "cell_type": "code",
   "execution_count": null,
   "metadata": {},
   "outputs": [],
   "source": [
    "df_gps_teme_filtered = filter_with_mean_oe(df_gps_teme, thresholds={\"mean_sma\": 5.0, \"mean_ecc\": 0.001, \"mean_inc\": 0.017}, plot=False)"
   ]
  },
  {
   "cell_type": "code",
   "execution_count": null,
   "metadata": {},
   "outputs": [],
   "source": [
    "filename = \"example_tle.txt\"\n",
    "tle = tu.load_tle(filename)"
   ]
  },
  {
   "cell_type": "code",
   "execution_count": null,
   "metadata": {},
   "outputs": [],
   "source": [
    "tle_list = [{\"tle\":tle, \"start\": df_gps_teme_filtered.index[0], \"end\":df_gps_teme_filtered.index[-1]}]\n",
    "df_gps_tle_error = calculate_gps_tle_error(df_gps_teme_filtered, tle_list)\n",
    "df_gps_tle_error[[\"alongtrack_error_km\",  \"acrosstrack_error_km\", \"radial_error_km\"]].plot()"
   ]
  },
  {
   "cell_type": "code",
   "execution_count": null,
   "metadata": {},
   "outputs": [],
   "source": [
    "df_gps_teme_filtered.index = df_gps_teme_filtered.index - datetime.timedelta(seconds=18) "
   ]
  },
  {
   "cell_type": "code",
   "execution_count": null,
   "metadata": {},
   "outputs": [],
   "source": [
    "df_gps_tle_error = calculate_gps_tle_error(df_gps_teme_filtered, tle_list)\n",
    "df_gps_tle_error[[\"alongtrack_error_km\",  \"acrosstrack_error_km\", \"radial_error_km\"]].plot()"
   ]
  },
  {
   "cell_type": "markdown",
   "metadata": {},
   "source": [
    "# Run fit"
   ]
  },
  {
   "cell_type": "code",
   "execution_count": null,
   "metadata": {},
   "outputs": [],
   "source": [
    "tle_fit = of.TLEFit(df_gps_teme_filtered, tle)"
   ]
  },
  {
   "cell_type": "code",
   "execution_count": null,
   "metadata": {},
   "outputs": [],
   "source": [
    "error_pos_km, error_vel_km_s = tle_fit.get_state_error(tle_fit.initial_state, tle_fit.df_gps)\n",
    "\n",
    "fig, ax = plt.subplots(2,1,sharex=True)\n",
    "ax[0].plot(tle_fit.dt_min, error_pos_km)\n",
    "ax[0].set_ylabel(\"Position Error [km]\")\n",
    "ax[1].plot(tle_fit.dt_min, error_vel_km_s)\n",
    "ax[1].set_ylabel(\"Velocity Error [km/s]\")"
   ]
  },
  {
   "cell_type": "code",
   "execution_count": null,
   "metadata": {},
   "outputs": [],
   "source": [
    "tle_out = tle_fit.run_fit(max_loops=50, deltaamtchg=1e-7)#, percentchg=0.5, deltaamtchg=1e-4, epsilon=1e-11)"
   ]
  },
  {
   "cell_type": "code",
   "execution_count": null,
   "metadata": {},
   "outputs": [],
   "source": [
    "state = tle_fit.tle2state(tle_out)\n",
    "error_pos_km, error_vel_km_s = tle_fit.get_state_error(state, tle_fit.df_gps)\n",
    "\n",
    "fig, ax = plt.subplots(2,1,sharex=True)\n",
    "ax[0].plot(tle_fit.dt_min, error_pos_km)\n",
    "ax[0].set_ylabel(\"Position Error [km]\")\n",
    "ax[1].plot(tle_fit.dt_min, error_vel_km_s)\n",
    "ax[1].set_ylabel(\"Velocity Error [km/s]\")"
   ]
  }
 ],
 "metadata": {
  "kernelspec": {
   "display_name": "orbdetpy",
   "language": "python",
   "name": "orbdetpy"
  },
  "language_info": {
   "codemirror_mode": {
    "name": "ipython",
    "version": 3
   },
   "file_extension": ".py",
   "mimetype": "text/x-python",
   "name": "python",
   "nbconvert_exporter": "python",
   "pygments_lexer": "ipython3",
   "version": "3.8.8"
  }
 },
 "nbformat": 4,
 "nbformat_minor": 4
}
