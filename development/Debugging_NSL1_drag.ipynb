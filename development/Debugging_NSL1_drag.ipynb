{
 "cells": [
  {
   "cell_type": "code",
   "execution_count": null,
   "metadata": {},
   "outputs": [],
   "source": [
    "import pandas as pd\n",
    "import matplotlib.pyplot as plt\n",
    "from orbitfit.orbitfit import OrekitFit, STK_CONFIG\n",
    "from orbitfit.utils import interp, distance_between_position, filter_with_mean_oe, plot_error_aar, get_gps_error_percentiles\n",
    "from orbitfit.rotate import rotate_gps\n",
    "import datetime\n",
    "import copy \n",
    "import numpy as np\n",
    "import logging\n",
    "import json\n",
    "from orbdetpy.simulation import simulate_measurements\n",
    "\n",
    "logging.basicConfig(level=logging.INFO)\n",
    "\n",
    "%matplotlib notebook"
   ]
  },
  {
   "cell_type": "markdown",
   "metadata": {},
   "source": [
    "## Load GPS data"
   ]
  },
  {
   "cell_type": "code",
   "execution_count": null,
   "metadata": {},
   "outputs": [],
   "source": [
    "#df_gps = pd.read_pickle('NSL1_GPS_telemetry/CH01_20210610_MTQ_Test4_rev6_rows0to1416_gps.pkl')\n",
    "df_gps = pd.read_pickle('../NSL1_GPS_telemetry/CH01_20210716_GPS_Test4_Rev6-3_rows_0to686_gps.pkl')\n",
    "df_gps = df_gps.tz_localize(datetime.timezone.utc)\n",
    "mask = df_gps['status'] != '00'\n",
    "df_gps = df_gps[mask]\n",
    "df_gps = df_gps.drop(['status', 'OBT'], axis=1)\n",
    "\n",
    "fig, ax = plt.subplots(2,1, sharex=True)\n",
    "df_gps[['randv_mks_0','randv_mks_1','randv_mks_2']].plot(ax=ax[0], style='-*', grid=True)\n",
    "df_gps[['randv_mks_3','randv_mks_4','randv_mks_5']].plot(ax=ax[1], style='-*', grid=True)"
   ]
  },
  {
   "cell_type": "code",
   "execution_count": null,
   "metadata": {},
   "outputs": [],
   "source": [
    "df_gps.index[0], df_gps.index[-1]"
   ]
  },
  {
   "cell_type": "markdown",
   "metadata": {},
   "source": [
    "##  Rotate and filter"
   ]
  },
  {
   "cell_type": "code",
   "execution_count": null,
   "metadata": {},
   "outputs": [],
   "source": [
    "df_gps_eci = rotate_gps(df_gps, method=\"E2I\")"
   ]
  },
  {
   "cell_type": "code",
   "execution_count": null,
   "metadata": {},
   "outputs": [],
   "source": [
    "df_gps_eci_filtered = filter_with_mean_oe(df_gps_eci, thresholds={\"mean_sma\": 1, \"mean_ecc\": 0.0004, \"mean_inc\": 0.008}, method=\"median\", plot=True)"
   ]
  },
  {
   "cell_type": "markdown",
   "metadata": {},
   "source": [
    "## Load config file from latest optimization"
   ]
  },
  {
   "cell_type": "code",
   "execution_count": null,
   "metadata": {},
   "outputs": [],
   "source": [
    "config_filename = \"GPS_20210716/config_dict_out.json\"\n",
    "with open(config_filename, 'r') as fp:\n",
    "    config_dict = json.load(fp)\n",
    "config_dict"
   ]
  },
  {
   "cell_type": "markdown",
   "metadata": {},
   "source": [
    "## Run simulation with loaded config file"
   ]
  },
  {
   "cell_type": "code",
   "execution_count": null,
   "metadata": {},
   "outputs": [],
   "source": [
    "output_dict = simulate_measurements(config_dict)\n",
    "assert \"Traceback\" not in output_dict, output_dict\n",
    "index = pd.DatetimeIndex([o[\"Time\"] for o in output_dict])\n",
    "data = [o[\"TrueStateCartesian\"][:6] for o in output_dict]\n",
    "df_out = pd.DataFrame(data=data, index=index, columns=[\"randv_mks_{}\".format(i) for i in range(6)])"
   ]
  },
  {
   "cell_type": "code",
   "execution_count": null,
   "metadata": {},
   "outputs": [],
   "source": [
    "# propagated values should always be interpolated to the times of the available data.\n",
    "df_out_interpolated = interp(df_out, df_gps_eci_filtered.index)\n",
    "_ = plot_error_aar(df_gps_eci_filtered, df_out_interpolated)"
   ]
  },
  {
   "cell_type": "code",
   "execution_count": null,
   "metadata": {},
   "outputs": [],
   "source": [
    "# propagated values should always be interpolated to the times of the available data.\n",
    "df_out_interpolated = interp(df_out, df_gps_eci.index)\n",
    "_ = plot_error_aar(df_gps_eci, df_out_interpolated)"
   ]
  },
  {
   "cell_type": "code",
   "execution_count": null,
   "metadata": {},
   "outputs": [],
   "source": [
    "df_out_interpolated = interp(df_out, df_gps_eci.index)\n",
    "get_gps_error_percentiles(df_gps_eci, df_out_interpolated, quantiles_of_interest=(0.66, 0.90, 0.99), plot=True)"
   ]
  },
  {
   "cell_type": "markdown",
   "metadata": {},
   "source": [
    "## Run in loop with different values of area"
   ]
  },
  {
   "cell_type": "code",
   "execution_count": null,
   "metadata": {},
   "outputs": [],
   "source": [
    "config_dict_aux = config_dict;\n",
    "config_dict_aux[\"SpaceObject\"][\"Area\"] = 0.3\n",
    "output_dict = simulate_measurements(config_dict_aux)\n",
    "assert \"Traceback\" not in output_dict, output_dict\n",
    "index = pd.DatetimeIndex([o[\"Time\"] for o in output_dict])\n",
    "data = [o[\"TrueStateCartesian\"][:6] for o in output_dict]\n",
    "df_out = pd.DataFrame(data=data, index=index, columns=[\"randv_mks_{}\".format(i) for i in range(6)])\n",
    "df_out_interpolated = interp(df_out, df_gps_eci_filtered.index)\n",
    "_ = plot_error_aar(df_gps_eci_filtered, df_out_interpolated)"
   ]
  },
  {
   "cell_type": "code",
   "execution_count": null,
   "metadata": {
    "scrolled": false
   },
   "outputs": [],
   "source": [
    "areas = np.linspace(0.08, 0.12,5)\n",
    "for area in areas:\n",
    "    config_dict_aux = config_dict;\n",
    "    config_dict_aux[\"SpaceObject\"][\"Area\"] = area\n",
    "    output_dict = simulate_measurements(config_dict_aux)\n",
    "    assert \"Traceback\" not in output_dict, output_dict\n",
    "    index = pd.DatetimeIndex([o[\"Time\"] for o in output_dict])\n",
    "    data = [o[\"TrueStateCartesian\"][:6] for o in output_dict]\n",
    "    df_out = pd.DataFrame(data=data, index=index, columns=[\"randv_mks_{}\".format(i) for i in range(6)])\n",
    "    df_out_interpolated = interp(df_out, df_gps_eci_filtered.index)\n",
    "    _ = plot_error_aar(df_gps_eci_filtered, df_out_interpolated)"
   ]
  },
  {
   "cell_type": "markdown",
   "metadata": {},
   "source": [
    "Seems that Area = 0.1 m2 is the option that best matches the alongtrack error. But actually the best result might be 0.12 m2 because the alongtrack divergence is straight, thus meaning that the error is because of an initial position, and not because of a drag missmatch."
   ]
  },
  {
   "cell_type": "code",
   "execution_count": null,
   "metadata": {},
   "outputs": [],
   "source": []
  }
 ],
 "metadata": {
  "kernelspec": {
   "display_name": "orbdetpy",
   "language": "python",
   "name": "orbdetpy"
  },
  "language_info": {
   "codemirror_mode": {
    "name": "ipython",
    "version": 3
   },
   "file_extension": ".py",
   "mimetype": "text/x-python",
   "name": "python",
   "nbconvert_exporter": "python",
   "pygments_lexer": "ipython3",
   "version": "3.8.8"
  }
 },
 "nbformat": 4,
 "nbformat_minor": 4
}
