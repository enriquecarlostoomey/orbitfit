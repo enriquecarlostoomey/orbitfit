{
 "cells": [
  {
   "cell_type": "code",
   "execution_count": null,
   "metadata": {},
   "outputs": [],
   "source": [
    "import os\n",
    "os.environ[\"JAVA_HOME\"] = \"/usr/lib/jvm/java-8-openjdk-amd64\""
   ]
  },
  {
   "cell_type": "code",
   "execution_count": null,
   "metadata": {},
   "outputs": [],
   "source": [
    "import orbitfit.utils as utils\n",
    "from orbitfit.orbitfit import run_fit\n",
    "import dateutil.parser\n",
    "import copy\n",
    "import json\n",
    "import orbdetpy\n",
    "import matplotlib.pyplot as plt\n",
    "import pandas as pd\n",
    "import datetime\n",
    "import numpy as np\n",
    "\n",
    "%matplotlib notebook"
   ]
  },
  {
   "cell_type": "code",
   "execution_count": null,
   "metadata": {},
   "outputs": [],
   "source": [
    "start = dateutil.parser.parse(\"2018-11-12 00:00\")\n",
    "end = dateutil.parser.parse(\"2018-11-12 08:00\")\n",
    "sate = \"newsat5\"\n",
    "df_gps = utils.download_gps_data(sate, start, end)\n",
    "df_gps_eci = utils.rotate_gps_to_eci(df_gps)"
   ]
  },
  {
   "cell_type": "code",
   "execution_count": null,
   "metadata": {},
   "outputs": [],
   "source": [
    "config_dict = {'Gravity': {'Degree': 70, 'Order': 70},\n",
    "                   'OceanTides': {'Degree': 20, 'Order': 20},\n",
    "                   'Drag': {'Model': 'MSISE', 'Coefficient': {'Value': 2.0}},\n",
    "                   'SolidTides': {'Sun': True, 'Moon': True},\n",
    "                   'ThirdBodies': {'Sun': True, 'Moon': True},\n",
    "                   'RadiationPressure': {'Sun': True, 'Creflection': {'Value': 1.5}},\n",
    "                   'SpaceObject': {'Mass': 40.0, 'Area': 0.8 * 0.4}}\n",
    "df_out, df_gps_eci_interpolated, config_dict_out = run_fit(df_gps_eci, config_dict, max_loops=2)"
   ]
  },
  {
   "cell_type": "code",
   "execution_count": null,
   "metadata": {},
   "outputs": [],
   "source": [
    "((df_gps_eci_interpolated - df_out)[[\"randv_mks_{}\".format(i) for i in range(3)]]).plot()\n",
    "plt.title(\"Pos error [m]\")"
   ]
  },
  {
   "cell_type": "code",
   "execution_count": null,
   "metadata": {},
   "outputs": [],
   "source": [
    "config_dict_out"
   ]
  },
  {
   "cell_type": "code",
   "execution_count": null,
   "metadata": {},
   "outputs": [],
   "source": [
    "dates = []\n",
    "pos_vel = []\n",
    "with open(\"stk_result_newsat5_20181112_2.txt\", 'r') as fid:\n",
    "    for line in fid.readlines()[7:]:\n",
    "        try:\n",
    "            data = line.split(\"  \")\n",
    "            dates.append(dateutil.parser.parse(data[0]).replace(tzinfo=datetime.timezone.utc))\n",
    "            pos_vel.append([float(value)*1000 for value in data[1:] if value is not \"\"])\n",
    "        except Exception:\n",
    "            print(data)\n",
    "            break\n",
    "df_stk = pd.DataFrame(data=pos_vel, index=dates, columns=[f\"randv_mks_{i}\" for i in range(6)])"
   ]
  },
  {
   "cell_type": "code",
   "execution_count": null,
   "metadata": {},
   "outputs": [],
   "source": [
    "((df_stk - df_out)[[\"randv_mks_{}\".format(i) for i in range(3)]]).plot()\n",
    "plt.title(\"STK - orbdetpy [m]\")"
   ]
  },
  {
   "cell_type": "code",
   "execution_count": null,
   "metadata": {},
   "outputs": [],
   "source": [
    "pos_diff_ecef_m = (df_stk - df_out)[[\"randv_mks_{}\".format(i) for i in range(3)]]\n",
    "pos_stk_ecef_m = df_stk[[\"randv_mks_{}\".format(i) for i in range(3)]].values\n",
    "teme2arr = utils.find_inertial2aar_dcm(pos_stk_ecef_m)\n",
    "pos_diff_aar_m = np.einsum(\"ijk,ik->ij\", teme2arr, pos_diff_ecef_m)\n",
    "plt.figure()\n",
    "plt.plot(df_stk.index, pos_diff_aar_m, '-')\n",
    "plt.grid()\n",
    "plt.title(\"STK - orekit  diff\")\n",
    "plt.ylabel(\"diff [km]\")\n",
    "plt.legend([\"along-track\", \"cross-track\", \"radial\"])\n",
    "plt.tight_layout()\n",
    "plt.show()"
   ]
  },
  {
   "cell_type": "markdown",
   "metadata": {},
   "source": [
    "La propagación de STK se adelanta respecto a la de orekit. Sospecho que el problema esta en el drag. STK estima un drag mayor, por lo que cae y se adelanta. Voy a intentar variar el valor de drag hasta que coincidan los propagadores"
   ]
  },
  {
   "cell_type": "code",
   "execution_count": null,
   "metadata": {},
   "outputs": [],
   "source": [
    "config_dict_out"
   ]
  },
  {
   "cell_type": "markdown",
   "metadata": {},
   "source": [
    "Variando el area"
   ]
  },
  {
   "cell_type": "code",
   "execution_count": null,
   "metadata": {},
   "outputs": [],
   "source": [
    "config_dict_copy = copy.deepcopy(config_dict_out)\n",
    "config_dict_copy[\"SpaceObject\"][\"Area\"] = 0.320*8\n",
    "output = orbdetpy.simulateMeasurements(json.dumps(config_dict_copy))\n",
    "output_dict = json.loads(output)\n",
    "index = pd.DatetimeIndex([o[\"Time\"] for o in output_dict])\n",
    "data = [[float(x) for x in o[\"TrueState\"][\"Cartesian\"][:6]] for o in output_dict]\n",
    "df_out = pd.DataFrame(data=data, index=index, columns=[\"randv_mks_{}\".format(i) for i in range(6)])"
   ]
  },
  {
   "cell_type": "code",
   "execution_count": null,
   "metadata": {},
   "outputs": [],
   "source": [
    "pos_diff_ecef_m = (df_stk - df_out)[[\"randv_mks_{}\".format(i) for i in range(3)]]\n",
    "pos_stk_ecef_m = df_stk[[\"randv_mks_{}\".format(i) for i in range(3)]].values\n",
    "teme2arr = utils.find_inertial2aar_dcm(pos_stk_ecef_m)\n",
    "pos_diff_aar_m = np.einsum(\"ijk,ik->ij\", teme2arr, pos_diff_ecef_m)\n",
    "plt.figure()\n",
    "plt.plot(df_stk.index, pos_diff_aar_m, '-')\n",
    "plt.grid()\n",
    "plt.title(\"STK - orekit  diff\")\n",
    "plt.ylabel(\"diff [m]\")\n",
    "plt.legend([\"along-track\", \"cross-track\", \"radial\"])\n",
    "plt.tight_layout()\n",
    "plt.show()"
   ]
  },
  {
   "cell_type": "markdown",
   "metadata": {},
   "source": [
    "Variando el CD"
   ]
  },
  {
   "cell_type": "code",
   "execution_count": null,
   "metadata": {},
   "outputs": [],
   "source": [
    "config_dict_copy = copy.deepcopy(config_dict_out)\n",
    "config_dict_copy[\"Drag\"][\"Coefficient\"][\"Value\"] = 15.5\n",
    "output = orbdetpy.simulateMeasurements(json.dumps(config_dict_copy))\n",
    "output_dict = json.loads(output)\n",
    "index = pd.DatetimeIndex([o[\"Time\"] for o in output_dict])\n",
    "data = [[float(x) for x in o[\"TrueState\"][\"Cartesian\"][:6]] for o in output_dict]\n",
    "df_out = pd.DataFrame(data=data, index=index, columns=[\"randv_mks_{}\".format(i) for i in range(6)])"
   ]
  },
  {
   "cell_type": "code",
   "execution_count": null,
   "metadata": {},
   "outputs": [],
   "source": [
    "pos_diff_ecef_m = (df_stk - df_out)[[\"randv_mks_{}\".format(i) for i in range(3)]]\n",
    "pos_stk_ecef_m = df_stk[[\"randv_mks_{}\".format(i) for i in range(3)]].values\n",
    "teme2arr = utils.find_inertial2aar_dcm(pos_stk_ecef_m)\n",
    "pos_diff_aar_m = np.einsum(\"ijk,ik->ij\", teme2arr, pos_diff_ecef_m)\n",
    "plt.figure()\n",
    "plt.plot(df_stk.index, pos_diff_aar_m, '-')\n",
    "plt.grid()\n",
    "plt.title(\"STK - orekit  diff\")\n",
    "plt.ylabel(\"diff [m]\")\n",
    "plt.legend([\"along-track\", \"cross-track\", \"radial\"])\n",
    "plt.tight_layout()\n",
    "plt.show()"
   ]
  },
  {
   "cell_type": "markdown",
   "metadata": {},
   "source": [
    "Why STK drag is much bigger than orbdetpy? No idea!"
   ]
  }
 ],
 "metadata": {
  "kernelspec": {
   "display_name": "orbitfit",
   "language": "python",
   "name": "venv"
  },
  "language_info": {
   "codemirror_mode": {
    "name": "ipython",
    "version": 3
   },
   "file_extension": ".py",
   "mimetype": "text/x-python",
   "name": "python",
   "nbconvert_exporter": "python",
   "pygments_lexer": "ipython3",
   "version": "3.6.8"
  }
 },
 "nbformat": 4,
 "nbformat_minor": 2
}
