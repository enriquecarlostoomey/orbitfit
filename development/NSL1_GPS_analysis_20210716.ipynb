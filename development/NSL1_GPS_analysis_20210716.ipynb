{
 "cells": [
  {
   "cell_type": "code",
   "execution_count": null,
   "metadata": {},
   "outputs": [],
   "source": [
    "from orbitfit.tle_utils import get_tle_lines, tle_list_to_tle_data, twoline2rv, wgs84\n",
    "from orbitfit.utils import calculate_gps_tle_error\n",
    "from orbitfit.rotate import rotate_gps\n",
    "from orbitfit.io import parse_gps_data, GPS_state_vector_to_pandas_series\n",
    "\n",
    "import datetime\n",
    "import numpy as np\n",
    "import pandas as pd\n",
    "import os\n",
    "\n",
    "%matplotlib notebook"
   ]
  },
  {
   "cell_type": "code",
   "execution_count": null,
   "metadata": {},
   "outputs": [],
   "source": [
    "filename = 'Orekit_example_2/CH01_20210716_GPS_Test4_Rev6-3_rows_0to686_fixed.csv'"
   ]
  },
  {
   "cell_type": "markdown",
   "metadata": {},
   "source": [
    "## Analyse status"
   ]
  },
  {
   "cell_type": "code",
   "execution_count": null,
   "metadata": {},
   "outputs": [],
   "source": [
    "df_gps_raw = pd.read_csv(filename)\n",
    "df_gps = df_gps_raw.apply(GPS_state_vector_to_pandas_series, axis=1)\n",
    "df_gps = df_gps.set_index('date')\n",
    "df_gps.status.plot()"
   ]
  },
  {
   "cell_type": "code",
   "execution_count": null,
   "metadata": {},
   "outputs": [],
   "source": [
    "df_gps_locked = df_gps[df_gps.status == 1]\n",
    "timediff = df_gps_locked.index.to_series().diff()\n",
    "timediff = timediff[timediff > datetime.timedelta(minutes=5)]\n",
    "timediff = timediff.apply(lambda x: x.total_seconds()/60)\n",
    "timediff_sorted = timediff.sort_values(ascending=False)\n",
    "timediff_sorted.head(10)"
   ]
  },
  {
   "cell_type": "code",
   "execution_count": null,
   "metadata": {},
   "outputs": [],
   "source": [
    "df_gps = parse_gps_data(filename)\n",
    "df_gps = df_gps.tz_localize(datetime.timezone.utc)"
   ]
  },
  {
   "cell_type": "code",
   "execution_count": null,
   "metadata": {},
   "outputs": [],
   "source": [
    "df_gps_teme = rotate_gps(df_gps, method=\"E2T\")"
   ]
  },
  {
   "cell_type": "code",
   "execution_count": null,
   "metadata": {},
   "outputs": [],
   "source": [
    "tle_list = []\n",
    "lines = ['1 44391U 19038E   21194.41242536  .00000328  00000-0  32780-4 0  9993',\n",
    "         '2 44391  97.7766 159.4416 0018770 285.5407  74.3743 14.98090681110500']\n",
    "tle_list.append(twoline2rv(*lines, whichconst=wgs84))\n",
    "tle_list_with_data = tle_list_to_tle_data(tle_list)"
   ]
  },
  {
   "cell_type": "code",
   "execution_count": null,
   "metadata": {},
   "outputs": [],
   "source": [
    "tle_list[0].epoch"
   ]
  },
  {
   "cell_type": "code",
   "execution_count": null,
   "metadata": {},
   "outputs": [],
   "source": [
    "df_gps_tle_error = calculate_gps_tle_error(df_gps_teme, tle_list_with_data)"
   ]
  },
  {
   "cell_type": "code",
   "execution_count": null,
   "metadata": {},
   "outputs": [],
   "source": [
    "df_gps_tle_error[['alongtrack_error_km', 'acrosstrack_error_km', 'radial_error_km']].plot(grid=True)"
   ]
  },
  {
   "cell_type": "markdown",
   "metadata": {},
   "source": [
    "same 137 seconds delay between TLE and GPS"
   ]
  },
  {
   "cell_type": "markdown",
   "metadata": {},
   "source": [
    "###  With time shift of 18sec"
   ]
  },
  {
   "cell_type": "code",
   "execution_count": null,
   "metadata": {},
   "outputs": [],
   "source": [
    "df_gps.index = df_gps.index - datetime.timedelta(seconds=137/7.6)\n",
    "df_gps_teme = rotate_gps(df_gps, method=\"E2T\")\n",
    "df_gps_tle_error = calculate_gps_tle_error(df_gps_teme, tle_list_with_data)\n",
    "df_gps_tle_error[['alongtrack_error_km', 'acrosstrack_error_km', 'radial_error_km']].plot(grid=True)"
   ]
  },
  {
   "cell_type": "code",
   "execution_count": null,
   "metadata": {},
   "outputs": [],
   "source": []
  }
 ],
 "metadata": {
  "kernelspec": {
   "display_name": "orbdetpy",
   "language": "python",
   "name": "orbdetpy"
  },
  "language_info": {
   "codemirror_mode": {
    "name": "ipython",
    "version": 3
   },
   "file_extension": ".py",
   "mimetype": "text/x-python",
   "name": "python",
   "nbconvert_exporter": "python",
   "pygments_lexer": "ipython3",
   "version": "3.8.8"
  }
 },
 "nbformat": 4,
 "nbformat_minor": 4
}
